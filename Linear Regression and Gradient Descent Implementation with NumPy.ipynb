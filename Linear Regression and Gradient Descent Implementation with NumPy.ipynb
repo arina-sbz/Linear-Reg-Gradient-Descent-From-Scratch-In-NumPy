{
 "cells": [
  {
   "cell_type": "code",
   "execution_count": 1,
   "id": "e6c99cb9",
   "metadata": {},
   "outputs": [],
   "source": [
    "from load_auto import load_auto\n",
    "from main_functions import *"
   ]
  },
  {
   "cell_type": "code",
   "execution_count": 2,
   "id": "ede07f9f",
   "metadata": {},
   "outputs": [],
   "source": [
    "# global variables\n",
    "num_iterations = 1000\n",
    "learning_rates = [1, 1e-1, 1e-2, 1e-3, 1e-4]"
   ]
  },
  {
   "cell_type": "markdown",
   "id": "05489b8c",
   "metadata": {},
   "source": [
    "### Implementation on all features"
   ]
  },
  {
   "cell_type": "code",
   "execution_count": 3,
   "id": "61ea3ce7",
   "metadata": {},
   "outputs": [],
   "source": [
    "X_train, X_train_normalized, Y_train = load_auto()"
   ]
  },
  {
   "cell_type": "markdown",
   "id": "817fa43b",
   "metadata": {},
   "source": [
    "#### Implementation on normalized features"
   ]
  },
  {
   "cell_type": "code",
   "execution_count": 4,
   "id": "d098fa3f",
   "metadata": {},
   "outputs": [
    {
     "name": "stdout",
     "output_type": "stream",
     "text": [
      "(392, 7)\n"
     ]
    }
   ],
   "source": [
    "print(X_train_normalized.shape)"
   ]
  },
  {
   "cell_type": "code",
   "execution_count": 5,
   "id": "63b4f24b",
   "metadata": {},
   "outputs": [
    {
     "name": "stdout",
     "output_type": "stream",
     "text": [
      "The cost for iteration 0 is 610.4738265306122\n",
      "The cost for iteration 200 is inf\n",
      "The cost for iteration 400 is nan\n",
      "The cost for iteration 600 is nan\n",
      "The cost for iteration 800 is nan\n",
      "The cost for iteration 999 is nan\n",
      "The cost for iteration 0 is 610.4738265306122\n",
      "The cost for iteration 200 is 10.880920893395123\n",
      "The cost for iteration 400 is 10.849335523674572\n",
      "The cost for iteration 600 is 10.847602334859872\n",
      "The cost for iteration 800 is 10.847489084705014\n",
      "The cost for iteration 999 is 10.847481499970431\n",
      "The cost for iteration 0 is 610.4738265306122\n",
      "The cost for iteration 200 is 12.01777949102011\n",
      "The cost for iteration 400 is 11.451304226860376\n",
      "The cost for iteration 600 is 11.237669452195465\n",
      "The cost for iteration 800 is 11.108992624449682\n",
      "The cost for iteration 999 is 11.02751327099357\n",
      "The cost for iteration 0 is 610.4738265306122\n",
      "The cost for iteration 200 is 262.7488763526763\n",
      "The cost for iteration 400 is 124.55010750699861\n"
     ]
    },
    {
     "name": "stderr",
     "output_type": "stream",
     "text": [
      "/Library/Frameworks/Python.framework/Versions/3.9/lib/python3.9/site-packages/numpy/core/fromnumeric.py:88: RuntimeWarning: overflow encountered in reduce\n",
      "  return ufunc.reduce(obj, axis, dtype, out, **passkwargs)\n",
      "/Users/Arins/Documents/Uni/Deep Learning for Image Analysis/Assignments/Assignment 1/Linear-Reg-Gradient-Descent-From-Scratch-In-NumPy/main_functions.py:18: RuntimeWarning: overflow encountered in square\n",
      "  loss = (real_values - predicted_values) ** 2\n"
     ]
    },
    {
     "name": "stdout",
     "output_type": "stream",
     "text": [
      "The cost for iteration 600 is 62.795497016046745\n",
      "The cost for iteration 800 is 34.97472765319183\n",
      "The cost for iteration 999 is 22.450005771266934\n",
      "The cost for iteration 0 is 610.4738265306122\n",
      "The cost for iteration 200 is 554.4254571248918\n",
      "The cost for iteration 400 is 505.8078403635487\n",
      "The cost for iteration 600 is 463.08684793850546\n",
      "The cost for iteration 800 is 425.1429293199706\n",
      "The cost for iteration 999 is 391.30911896975357\n"
     ]
    }
   ],
   "source": [
    "total_costs = []\n",
    "for i in learning_rates:\n",
    "    weights, b, cost_list,iterations = train_linear_model(X_train_normalized, Y_train, num_iterations, i)\n",
    "    total_costs.append(cost_list)"
   ]
  },
  {
   "cell_type": "code",
   "execution_count": 6,
   "id": "52d7e4a4",
   "metadata": {},
   "outputs": [
    {
     "name": "stdout",
     "output_type": "stream",
     "text": [
      "Learning rate: 1\n",
      "Final cost: nan\n",
      "\n",
      "\n",
      "Learning rate: 0.1\n",
      "Final cost: 10.847481499970431\n",
      "\n",
      "\n",
      "Learning rate: 0.01\n",
      "Final cost: 11.02751327099357\n",
      "\n",
      "\n",
      "Learning rate: 0.001\n",
      "Final cost: 22.450005771266934\n",
      "\n",
      "\n",
      "Learning rate: 0.0001\n",
      "Final cost: 391.30911896975357\n",
      "\n",
      "\n"
     ]
    }
   ],
   "source": [
    "# for each cost list in total_cost print the last cost\n",
    "for i in range(len(total_costs)):\n",
    "    print(f\"Learning rate: {learning_rates[i]}\")\n",
    "    print(f\"Final cost: {total_costs[i][-1]}\")\n",
    "    print(\"\\n\")"
   ]
  },
  {
   "cell_type": "code",
   "execution_count": 8,
   "id": "bceb44d4",
   "metadata": {},
   "outputs": [
    {
     "name": "stdout",
     "output_type": "stream",
     "text": [
      "[[610.4738265306122, inf, nan, nan, nan, nan], [610.4738265306122, 10.880920893395123, 10.849335523674572, 10.847602334859872, 10.847489084705014, 10.847481499970431], [610.4738265306122, 12.01777949102011, 11.451304226860376, 11.237669452195465, 11.108992624449682, 11.02751327099357], [610.4738265306122, 262.7488763526763, 124.55010750699861, 62.795497016046745, 34.97472765319183, 22.450005771266934], [610.4738265306122, 554.4254571248918, 505.8078403635487, 463.08684793850546, 425.1429293199706, 391.30911896975357]]\n"
     ]
    }
   ],
   "source": [
    "print(total_costs)"
   ]
  },
  {
   "cell_type": "code",
   "execution_count": 7,
   "id": "e739ad44",
   "metadata": {},
   "outputs": [
    {
     "data": {
      "image/png": "[encoded data removed]",
      "text/plain": [
       "<Figure size 432x288 with 1 Axes>"
      ]
     },
     "metadata": {
      "needs_background": "light"
     },
     "output_type": "display_data"
    }
   ],
   "source": [
    "show_plot(total_costs, learning_rates)   "
   ]
  },
  {
   "cell_type": "code",
   "execution_count": null,
   "id": "49bbf003",
   "metadata": {},
   "outputs": [],
   "source": []
  }
 ],
 "metadata": {
  "kernelspec": {
   "display_name": "Python 3 (ipykernel)",
   "language": "python",
   "name": "python3"
  },
  "language_info": {
   "codemirror_mode": {
    "name": "ipython",
    "version": 3
   },
   "file_extension": ".py",
   "mimetype": "text/x-python",
   "name": "python",
   "nbconvert_exporter": "python",
   "pygments_lexer": "ipython3",
   "version": "3.9.10"
  }
 },
 "nbformat": 4,
 "nbformat_minor": 5
}
