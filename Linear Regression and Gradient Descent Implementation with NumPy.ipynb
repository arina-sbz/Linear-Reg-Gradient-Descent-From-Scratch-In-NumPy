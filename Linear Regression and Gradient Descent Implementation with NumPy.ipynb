{
 "cells": [
  {
   "cell_type": "code",
   "execution_count": 1,
   "id": "e6c99cb9",
   "metadata": {},
   "outputs": [],
   "source": [
    "from load_auto import load_auto\n",
    "from main_functions import *"
   ]
  },
  {
   "cell_type": "code",
   "execution_count": 2,
   "id": "ede07f9f",
   "metadata": {},
   "outputs": [],
   "source": [
    "# global variables\n",
    "num_iterations = 1000\n",
    "learning_rates = [1, 1e-1, 1e-2, 1e-3, 1e-4]\n",
    "recording_iterations = [0, 200, 400, 600, 800, 1000]\n",
    "hp_total_costs = []\n",
    "all_total_costs = []"
   ]
  },
  {
   "cell_type": "markdown",
   "id": "b5c93263",
   "metadata": {},
   "source": [
    "### Implementation on Normalized Data"
   ]
  },
  {
   "cell_type": "code",
   "execution_count": 3,
   "id": "2d568b46",
   "metadata": {},
   "outputs": [],
   "source": [
    "# load the data\n",
    "X_hp, X_hp_normalized, Y_hp = load_auto(False) # load the training data with just horsepower feature column\n",
    "X_all, X_all_normalized, Y_all = load_auto() # load the training data with all features"
   ]
  },
  {
   "cell_type": "code",
   "execution_count": 4,
   "id": "1c3700c6",
   "metadata": {},
   "outputs": [
    {
     "name": "stdout",
     "output_type": "stream",
     "text": [
      "[[0.66328508]\n",
      " [1.57258478]\n",
      " [1.18288491]\n",
      " [1.18288491]\n",
      " [0.923085  ]]\n",
      "(392, 1)\n"
     ]
    }
   ],
   "source": [
    "# show the first 5 rows of the horsepower data and its shape\n",
    "print(X_hp_normalized[:5,:])\n",
    "print(X_hp_normalized.shape)"
   ]
  },
  {
   "cell_type": "code",
   "execution_count": 5,
   "id": "a1a17e75",
   "metadata": {},
   "outputs": [
    {
     "name": "stdout",
     "output_type": "stream",
     "text": [
      "[[ 1.48205303  1.07591459  0.66328508  0.61974833 -1.2836176  -1.6232409\n",
      "  -0.71572638]\n",
      " [ 1.48205303  1.48683159  1.57258478  0.84225766 -1.4648516  -1.6232409\n",
      "  -0.71572638]\n",
      " [ 1.48205303  1.18103289  1.18288491  0.53969206 -1.64608561 -1.6232409\n",
      "  -0.71572638]\n",
      " [ 1.48205303  1.04724596  1.18288491  0.53616016 -1.2836176  -1.6232409\n",
      "  -0.71572638]\n",
      " [ 1.48205303  1.02813354  0.923085    0.55499693 -1.82731962 -1.6232409\n",
      "  -0.71572638]]\n",
      "(392, 7)\n"
     ]
    }
   ],
   "source": [
    "# show the first 5 rows of the all features data and its shape\n",
    "print(X_all_normalized[:5,:])\n",
    "print(X_all_normalized.shape)"
   ]
  },
  {
   "cell_type": "markdown",
   "id": "7acf7d9f",
   "metadata": {},
   "source": [
    "#### Train and Evaluate on only horsepower feature"
   ]
  },
  {
   "cell_type": "code",
   "execution_count": 6,
   "id": "63b4f24b",
   "metadata": {},
   "outputs": [
    {
     "name": "stdout",
     "output_type": "stream",
     "text": [
      "Learning rate: 1\n",
      "The cost for iteration 0 is 610.4738265306122\n",
      "--------\n",
      "The cost for iteration 200 is 578.413457111128\n",
      "--------\n",
      "The cost for iteration 400 is 574.2697931833326\n",
      "--------\n",
      "The cost for iteration 600 is 573.7342425625028\n",
      "--------\n",
      "The cost for iteration 800 is 573.6650249636588\n",
      "--------\n",
      "The cost for iteration 999 is 573.6560925427221\n",
      "--------\n",
      "Learning rate: 0.1\n",
      "The cost for iteration 0 is 610.4738265306122\n",
      "--------\n",
      "The cost for iteration 200 is 23.943662938603108\n",
      "--------\n",
      "The cost for iteration 400 is 23.943662938603108\n",
      "--------\n",
      "The cost for iteration 600 is 23.943662938603108\n",
      "--------\n",
      "The cost for iteration 800 is 23.943662938603108\n",
      "--------\n",
      "The cost for iteration 999 is 23.943662938603108\n",
      "--------\n",
      "Learning rate: 0.01\n",
      "The cost for iteration 0 is 610.4738265306122\n",
      "--------\n",
      "The cost for iteration 200 is 24.12533741672402\n",
      "--------\n",
      "The cost for iteration 400 is 23.943719212731196\n",
      "--------\n",
      "The cost for iteration 600 is 23.943662956034622\n",
      "--------\n",
      "The cost for iteration 800 is 23.94366293860851\n",
      "--------\n",
      "The cost for iteration 999 is 23.943662938603108\n",
      "--------\n",
      "Learning rate: 0.001\n",
      "The cost for iteration 0 is 610.4738265306122\n",
      "--------\n",
      "The cost for iteration 200 is 287.3114588619288\n",
      "--------\n",
      "The cost for iteration 400 is 142.20290573676166\n",
      "--------\n",
      "The cost for iteration 600 is 77.04526524782112\n",
      "--------\n",
      "The cost for iteration 800 is 47.787726189310774\n",
      "--------\n",
      "The cost for iteration 999 is 34.69324670149392\n",
      "--------\n",
      "Learning rate: 0.0001\n",
      "The cost for iteration 0 is 610.4738265306122\n",
      "--------\n",
      "The cost for iteration 200 is 565.3818509784761\n",
      "--------\n",
      "The cost for iteration 400 is 523.7565121044969\n",
      "--------\n",
      "The cost for iteration 600 is 485.33129743167063\n",
      "--------\n",
      "The cost for iteration 800 is 449.86018377333295\n",
      "--------\n",
      "The cost for iteration 999 is 417.2733529593258\n",
      "--------\n"
     ]
    }
   ],
   "source": [
    "# train and record the costs for the horsepower data with different learning rates\n",
    "for i in learning_rates:\n",
    "    hp_weight, hp_b, hp_cost_list, hp_iterations = train_linear_model(X_hp_normalized, Y_hp, num_iterations, i)\n",
    "    hp_total_costs.append(hp_cost_list)"
   ]
  },
  {
   "cell_type": "code",
   "execution_count": 7,
   "id": "52d7e4a4",
   "metadata": {},
   "outputs": [
    {
     "name": "stdout",
     "output_type": "stream",
     "text": [
      "Learning rate: 1\n",
      "Final cost: 573.6560925427221\n",
      "------\n",
      "Learning rate: 0.1\n",
      "Final cost: 23.943662938603108\n",
      "------\n",
      "Learning rate: 0.01\n",
      "Final cost: 23.943662938603108\n",
      "------\n",
      "Learning rate: 0.001\n",
      "Final cost: 34.69324670149392\n",
      "------\n",
      "Learning rate: 0.0001\n",
      "Final cost: 417.2733529593258\n",
      "------\n"
     ]
    }
   ],
   "source": [
    "# for each cost list in hp_total_costs print the last cost and its corresponding learning rate\n",
    "for i in range(len(hp_total_costs)):\n",
    "    print(f\"Learning rate: {learning_rates[i]}\")\n",
    "    print(f\"Final cost: {hp_total_costs[i][-1]}\")\n",
    "    print(\"------\")"
   ]
  },
  {
   "cell_type": "code",
   "execution_count": 8,
   "id": "31a54d08",
   "metadata": {},
   "outputs": [
    {
     "name": "stdout",
     "output_type": "stream",
     "text": [
      "The minimum cost for the horsepower model is: 23.943662938603108\n",
      "The learning rate for the minimum cost is: 0.1\n"
     ]
    }
   ],
   "source": [
    "# find the index of the minimum cost, ignoring nan values\n",
    "hp_min_idx = min(range(len(hp_total_costs)), key = lambda index: float('inf') if np.isnan(hp_total_costs[index][-1]) else hp_total_costs[index][-1])\n",
    "\n",
    "# Get the minimum cost and corresponding learning rate\n",
    "hp_min_cost = hp_total_costs[hp_min_idx][-1]\n",
    "hp_min_learning_rate = learning_rates[hp_min_idx]\n",
    "\n",
    "print(f\"The minimum cost for the horsepower model is: {hp_min_cost}\")\n",
    "print(f\"The learning rate for the minimum cost is: {hp_min_learning_rate}\")"
   ]
  },
  {
   "cell_type": "code",
   "execution_count": 9,
   "id": "54c97034",
   "metadata": {},
   "outputs": [
    {
     "name": "stdout",
     "output_type": "stream",
     "text": [
      "Learning rate: 0.1\n",
      "The cost for iteration 0 is 610.4738265306122\n",
      "--------\n",
      "The cost for iteration 200 is 23.943662938603108\n",
      "--------\n",
      "The cost for iteration 400 is 23.943662938603108\n",
      "--------\n",
      "The cost for iteration 600 is 23.943662938603108\n",
      "--------\n",
      "The cost for iteration 800 is 23.943662938603108\n",
      "--------\n",
      "The cost for iteration 999 is 23.943662938603108\n",
      "--------\n"
     ]
    }
   ],
   "source": [
    "# train the horse power model using the learning rate that gave the minumum cost to find the best parameters\n",
    "hp_weight, hp_b, hp_cost_list, iterations = train_linear_model(X_hp_normalized, Y_hp, num_iterations, hp_min_learning_rate)\n"
   ]
  },
  {
   "cell_type": "code",
   "execution_count": 10,
   "id": "644bad6a",
   "metadata": {},
   "outputs": [
    {
     "name": "stdout",
     "output_type": "stream",
     "text": [
      "The best parameters for the horsepower model are:\n",
      "Weight: [[-6.07562688]]\n",
      "Offest: 23.44591836734693\n"
     ]
    }
   ],
   "source": [
    "print(\"The best parameters for the horsepower model are:\")\n",
    "print(f\"Weight: {hp_weight}\")\n",
    "print(f\"Offest: {hp_b}\")"
   ]
  },
  {
   "cell_type": "code",
   "execution_count": 11,
   "id": "e739ad44",
   "metadata": {},
   "outputs": [
    {
     "data": {
      "image/png": "[encoded data removed]",
      "text/plain": [
       "<Figure size 576x432 with 1 Axes>"
      ]
     },
     "metadata": {
      "needs_background": "light"
     },
     "output_type": "display_data"
    }
   ],
   "source": [
    "# show the plot for the horsepower model\n",
    "show_plot(hp_total_costs, learning_rates, recording_iterations, \"hp_plot\")   "
   ]
  },
  {
   "cell_type": "code",
   "execution_count": 12,
   "id": "8eaf2e7b",
   "metadata": {},
   "outputs": [
    {
     "data": {
      "image/png": "[encoded data removed]",
      "text/plain": [
       "<Figure size 576x432 with 1 Axes>"
      ]
     },
     "metadata": {
      "needs_background": "light"
     },
     "output_type": "display_data"
    }
   ],
   "source": [
    "# scatter plot for horsepower model\n",
    "plt.figure(figsize=(8, 6)) \n",
    "plt.scatter(X_hp_normalized, Y_hp, label='Data Points', color='orange')\n",
    "\n",
    "hp_range = np.linspace(X_hp_normalized.min(), X_hp_normalized.max(), 100).reshape(-1, 1) # generate a range of horsepower values for plotting the regression line\n",
    "predictions = predict(hp_range, hp_weight, hp_b) # calculate predicted values across the horsepower range\n",
    "\n",
    "plt.plot(hp_range, predictions, color='purple', label='Regression Line')\n",
    "plt.xlabel('Horsepower')\n",
    "plt.ylabel('MPG')\n",
    "plt.title('Horsepower vs MPG')\n",
    "plt.legend()\n",
    "plt.savefig(f\"scatter_plot.png\",dpi=300)\n",
    "plt.show()"
   ]
  },
  {
   "cell_type": "markdown",
   "id": "2381d10e",
   "metadata": {},
   "source": [
    "#### Train and Evaluate on the all features"
   ]
  },
  {
   "cell_type": "code",
   "execution_count": 13,
   "id": "0969f5a1",
   "metadata": {},
   "outputs": [
    {
     "name": "stdout",
     "output_type": "stream",
     "text": [
      "Learning rate: 1\n",
      "The cost for iteration 0 is 610.4738265306122\n",
      "--------\n",
      "The cost for iteration 200 is inf\n",
      "--------\n",
      "The cost for iteration 400 is nan\n",
      "--------\n",
      "The cost for iteration 600 is nan\n",
      "--------\n",
      "The cost for iteration 800 is nan\n",
      "--------\n",
      "The cost for iteration 999 is nan\n",
      "--------\n",
      "Learning rate: 0.1\n",
      "The cost for iteration 0 is 610.4738265306122\n",
      "--------\n",
      "The cost for iteration 200 is 10.880920893395123\n",
      "--------\n",
      "The cost for iteration 400 is 10.849335523674572\n",
      "--------\n",
      "The cost for iteration 600 is 10.847602334859872\n",
      "--------\n",
      "The cost for iteration 800 is 10.847489084705014\n",
      "--------\n",
      "The cost for iteration 999 is 10.847481499970431\n",
      "--------\n",
      "Learning rate: 0.01\n",
      "The cost for iteration 0 is 610.4738265306122\n",
      "--------\n",
      "The cost for iteration 200 is 12.01777949102011\n",
      "--------\n",
      "The cost for iteration 400 is 11.451304226860376\n",
      "--------\n",
      "The cost for iteration 600 is 11.237669452195465\n",
      "--------\n",
      "The cost for iteration 800 is 11.108992624449682\n",
      "--------\n",
      "The cost for iteration 999 is 11.02751327099357\n",
      "--------\n",
      "Learning rate: 0.001\n",
      "The cost for iteration 0 is 610.4738265306122\n",
      "--------\n",
      "The cost for iteration 200 is 262.7488763526763\n",
      "--------\n",
      "The cost for iteration 400 is 124.55010750699861\n",
      "--------\n",
      "The cost for iteration 600 is 62.795497016046745\n",
      "--------\n",
      "The cost for iteration 800 is 34.97472765319183\n",
      "--------\n",
      "The cost for iteration 999 is 22.450005771266934\n",
      "--------\n",
      "Learning rate: 0.0001\n",
      "The cost for iteration 0 is 610.4738265306122\n",
      "--------\n",
      "The cost for iteration 200 is 554.4254571248918\n",
      "--------\n",
      "The cost for iteration 400 is 505.8078403635487\n",
      "--------\n",
      "The cost for iteration 600 is 463.08684793850546\n",
      "--------\n",
      "The cost for iteration 800 is 425.1429293199706\n",
      "--------\n",
      "The cost for iteration 999 is 391.30911896975357\n",
      "--------\n"
     ]
    },
    {
     "name": "stderr",
     "output_type": "stream",
     "text": [
      "/Library/Frameworks/Python.framework/Versions/3.9/lib/python3.9/site-packages/numpy/core/fromnumeric.py:88: RuntimeWarning: overflow encountered in reduce\n",
      "  return ufunc.reduce(obj, axis, dtype, out, **passkwargs)\n",
      "/Users/Arins/Documents/Uni/Deep Learning for Image Analysis/Assignments/Assignment 1/Linear-Reg-Gradient-Descent-From-Scratch-In-NumPy/main_functions.py:46: RuntimeWarning: overflow encountered in square\n",
      "  loss = (real_values - predictions) ** 2 # calculate the loss (error squared) for each example\n"
     ]
    }
   ],
   "source": [
    "# train and record the costs with different learning rates\n",
    "for i in learning_rates:\n",
    "    all_weights, all_b, all_cost_list, all_iterations = train_linear_model(X_all_normalized, Y_all, num_iterations, i)\n",
    "    all_total_costs.append(all_cost_list)"
   ]
  },
  {
   "cell_type": "code",
   "execution_count": 14,
   "id": "aafae780",
   "metadata": {},
   "outputs": [
    {
     "name": "stdout",
     "output_type": "stream",
     "text": [
      "Learning rate: 1\n",
      "Final cost: nan\n",
      "------\n",
      "Learning rate: 0.1\n",
      "Final cost: 10.847481499970431\n",
      "------\n",
      "Learning rate: 0.01\n",
      "Final cost: 11.02751327099357\n",
      "------\n",
      "Learning rate: 0.001\n",
      "Final cost: 22.450005771266934\n",
      "------\n",
      "Learning rate: 0.0001\n",
      "Final cost: 391.30911896975357\n",
      "------\n"
     ]
    }
   ],
   "source": [
    "# for each cost list in all_total_costs print the last cost and its corresponding learning rate\n",
    "for i in range(len(all_total_costs)):\n",
    "    print(f\"Learning rate: {learning_rates[i]}\")\n",
    "    print(f\"Final cost: {all_total_costs[i][-1]}\")\n",
    "    print(\"------\")"
   ]
  },
  {
   "cell_type": "code",
   "execution_count": 15,
   "id": "64b0330e",
   "metadata": {},
   "outputs": [
    {
     "name": "stdout",
     "output_type": "stream",
     "text": [
      "The minimum cost for the model using all features is: 10.847481499970431\n",
      "The learning rate for the minimum cost is: 0.1\n"
     ]
    }
   ],
   "source": [
    "# find the index of the minimum cost, ignoring nan values\n",
    "all_min_idx = min(range(len(all_total_costs)), key = lambda index: float('inf') if np.isnan(all_total_costs[index][-1]) else all_total_costs[index][-1])\n",
    "\n",
    "# Get the minimum cost and corresponding learning rate\n",
    "all_min_cost = all_total_costs[all_min_idx][-1]\n",
    "all_min_learning_rate = learning_rates[all_min_idx]\n",
    "\n",
    "print(f\"The minimum cost for the model using all features is: {all_min_cost}\")\n",
    "print(f\"The learning rate for the minimum cost is: {all_min_learning_rate}\")"
   ]
  },
  {
   "cell_type": "code",
   "execution_count": 16,
   "id": "2ce398d5",
   "metadata": {},
   "outputs": [
    {
     "name": "stdout",
     "output_type": "stream",
     "text": [
      "Learning rate: 0.1\n",
      "The cost for iteration 0 is 610.4738265306122\n",
      "--------\n",
      "The cost for iteration 200 is 10.880920893395123\n",
      "--------\n",
      "The cost for iteration 400 is 10.849335523674572\n",
      "--------\n",
      "The cost for iteration 600 is 10.847602334859872\n",
      "--------\n",
      "The cost for iteration 800 is 10.847489084705014\n",
      "--------\n",
      "The cost for iteration 999 is 10.847481499970431\n",
      "--------\n"
     ]
    }
   ],
   "source": [
    "# train the all features model using the learning rate that gave the minumum cost to find the best parameters\n",
    "all_weights, all_b, all_cost_list, iterations = train_linear_model(X_all_normalized, Y_all, num_iterations, all_min_learning_rate)\n"
   ]
  },
  {
   "cell_type": "code",
   "execution_count": 17,
   "id": "99908ca8",
   "metadata": {},
   "outputs": [
    {
     "name": "stdout",
     "output_type": "stream",
     "text": [
      "The best parameters for the model using all features are:\n",
      "Weights\n",
      ": [[-0.83976308]\n",
      " [ 2.07852947]\n",
      " [-0.6518016 ]\n",
      " [-5.49827114]\n",
      " [ 0.22221673]\n",
      " [ 2.76561046]\n",
      " [ 1.14850055]]\n",
      "Offest: 23.445918367346934\n"
     ]
    }
   ],
   "source": [
    "print(\"The best parameters for the model using all features are:\")\n",
    "print(f\"Weights\\n: {all_weights}\")\n",
    "print(f\"Offest: {all_b}\")"
   ]
  },
  {
   "cell_type": "code",
   "execution_count": 18,
   "id": "623aaa89",
   "metadata": {},
   "outputs": [
    {
     "data": {
      "image/png": "[encoded data removed]",
      "text/plain": [
       "<Figure size 576x432 with 1 Axes>"
      ]
     },
     "metadata": {
      "needs_background": "light"
     },
     "output_type": "display_data"
    }
   ],
   "source": [
    "# show the plot for the model using all features\n",
    "show_plot(all_total_costs, learning_rates, recording_iterations, \"all_plot\")   "
   ]
  },
  {
   "cell_type": "markdown",
   "id": "2ca52b04",
   "metadata": {},
   "source": [
    "### Implementation on Not Normalized Data\n",
    "Models are also trained on unnormalized data to analyze the costs behavior."
   ]
  },
  {
   "cell_type": "code",
   "execution_count": 19,
   "id": "14e7b350",
   "metadata": {},
   "outputs": [
    {
     "name": "stdout",
     "output_type": "stream",
     "text": [
      "Learning rate: 1\n",
      "The cost for iteration 0 is 610.4738265306122\n",
      "--------\n",
      "The cost for iteration 200 is nan\n",
      "--------\n",
      "The cost for iteration 400 is nan\n",
      "--------\n",
      "The cost for iteration 600 is nan\n",
      "--------\n",
      "The cost for iteration 800 is nan\n",
      "--------\n",
      "The cost for iteration 999 is nan\n",
      "--------\n",
      "Learning rate: 0.1\n",
      "The cost for iteration 0 is 610.4738265306122\n",
      "--------\n",
      "The cost for iteration 200 is nan\n",
      "--------\n",
      "The cost for iteration 400 is nan\n",
      "--------\n",
      "The cost for iteration 600 is nan\n",
      "--------\n",
      "The cost for iteration 800 is nan\n",
      "--------\n",
      "The cost for iteration 999 is nan\n",
      "--------\n",
      "Learning rate: 0.01\n",
      "The cost for iteration 0 is 610.4738265306122\n",
      "--------\n",
      "The cost for iteration 200 is nan\n",
      "--------\n",
      "The cost for iteration 400 is nan\n",
      "--------\n",
      "The cost for iteration 600 is nan\n",
      "--------\n",
      "The cost for iteration 800 is nan\n",
      "--------\n",
      "The cost for iteration 999 is nan\n",
      "--------\n",
      "Learning rate: 0.001\n",
      "The cost for iteration 0 is 610.4738265306122\n",
      "--------\n",
      "The cost for iteration 200 is inf\n",
      "--------\n",
      "The cost for iteration 400 is nan\n",
      "--------\n",
      "The cost for iteration 600 is nan\n",
      "--------\n",
      "The cost for iteration 800 is nan\n",
      "--------\n",
      "The cost for iteration 999 is nan\n",
      "--------\n",
      "Learning rate: 0.0001\n",
      "The cost for iteration 0 is 610.4738265306122\n",
      "--------\n",
      "The cost for iteration 200 is 3.36635166282002e+70\n",
      "--------\n",
      "The cost for iteration 400 is 2.859208394163494e+138\n",
      "--------\n",
      "The cost for iteration 600 is 2.4284666190836027e+206\n",
      "--------\n",
      "The cost for iteration 800 is 2.062616398315614e+274\n",
      "--------\n",
      "The cost for iteration 999 is inf\n",
      "--------\n"
     ]
    },
    {
     "name": "stderr",
     "output_type": "stream",
     "text": [
      "/Users/Arins/Documents/Uni/Deep Learning for Image Analysis/Assignments/Assignment 1/Linear-Reg-Gradient-Descent-From-Scratch-In-NumPy/main_functions.py:85: RuntimeWarning: invalid value encountered in subtract\n",
      "  w = w - (learning_rate * gradient_w) # update weights by subtracting the product of learning rate and gradient with respect to weights from current weights\n",
      "/Users/Arins/Documents/Uni/Deep Learning for Image Analysis/Assignments/Assignment 1/Linear-Reg-Gradient-Descent-From-Scratch-In-NumPy/main_functions.py:86: RuntimeWarning: invalid value encountered in scalar subtract\n",
      "  b = b - (learning_rate * gradient_b) #update offset by subtracting the product of learning rate and gradient with respect to offset from current offset\n"
     ]
    }
   ],
   "source": [
    "# train on the not normalized horsepower data\n",
    "hp_total_costs_not_normalized = []\n",
    "for i in learning_rates:\n",
    "    hp_weights, hp_b, hp_cost_list,iterations = train_linear_model(X_hp, Y_hp, num_iterations, i)\n",
    "    hp_total_costs_not_normalized.append(hp_cost_list)"
   ]
  },
  {
   "cell_type": "code",
   "execution_count": 20,
   "id": "a412013b",
   "metadata": {},
   "outputs": [
    {
     "name": "stdout",
     "output_type": "stream",
     "text": [
      "Learning rate: 1\n",
      "The cost for iteration 0 is 610.4738265306122\n",
      "--------\n",
      "The cost for iteration 200 is nan\n",
      "--------\n",
      "The cost for iteration 400 is nan\n",
      "--------\n",
      "The cost for iteration 600 is nan\n",
      "--------\n",
      "The cost for iteration 800 is nan\n",
      "--------\n",
      "The cost for iteration 999 is nan\n",
      "--------\n",
      "Learning rate: 0.1\n",
      "The cost for iteration 0 is 610.4738265306122\n",
      "--------\n",
      "The cost for iteration 200 is nan\n",
      "--------\n",
      "The cost for iteration 400 is nan\n",
      "--------\n",
      "The cost for iteration 600 is nan\n",
      "--------\n",
      "The cost for iteration 800 is nan\n",
      "--------\n",
      "The cost for iteration 999 is nan\n",
      "--------\n",
      "Learning rate: 0.01\n",
      "The cost for iteration 0 is 610.4738265306122\n",
      "--------\n",
      "The cost for iteration 200 is nan\n",
      "--------\n",
      "The cost for iteration 400 is nan\n",
      "--------\n",
      "The cost for iteration 600 is nan\n",
      "--------\n",
      "The cost for iteration 800 is nan\n",
      "--------\n",
      "The cost for iteration 999 is nan\n",
      "--------\n",
      "Learning rate: 0.001\n",
      "The cost for iteration 0 is 610.4738265306122\n",
      "--------\n",
      "The cost for iteration 200 is nan\n",
      "--------\n",
      "The cost for iteration 400 is nan\n",
      "--------\n",
      "The cost for iteration 600 is nan\n",
      "--------\n",
      "The cost for iteration 800 is nan\n",
      "--------\n",
      "The cost for iteration 999 is nan\n",
      "--------\n",
      "Learning rate: 0.0001\n",
      "The cost for iteration 0 is 610.4738265306122\n",
      "--------\n",
      "The cost for iteration 200 is nan\n",
      "--------\n",
      "The cost for iteration 400 is nan\n",
      "--------\n",
      "The cost for iteration 600 is nan\n",
      "--------\n",
      "The cost for iteration 800 is nan\n",
      "--------\n",
      "The cost for iteration 999 is nan\n",
      "--------\n"
     ]
    }
   ],
   "source": [
    "# train on the not normalized data\n",
    "all_total_costs_not_normalized = []\n",
    "for i in learning_rates:\n",
    "    all_weights, all_b, all_cost_list,iterations = train_linear_model(X_all, Y_all, num_iterations, i)\n",
    "    all_total_costs_not_normalized.append(all_cost_list)"
   ]
  }
 ],
 "metadata": {
  "kernelspec": {
   "display_name": "Python 3 (ipykernel)",
   "language": "python",
   "name": "python3"
  },
  "language_info": {
   "codemirror_mode": {
    "name": "ipython",
    "version": 3
   },
   "file_extension": ".py",
   "mimetype": "text/x-python",
   "name": "python",
   "nbconvert_exporter": "python",
   "pygments_lexer": "ipython3",
   "version": "3.9.10"
  }
 },
 "nbformat": 4,
 "nbformat_minor": 5
}
